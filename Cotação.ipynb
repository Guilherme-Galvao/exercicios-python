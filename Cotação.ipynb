{
 "cells": [
  {
   "cell_type": "code",
   "execution_count": 36,
   "id": "b565f4fc",
   "metadata": {
    "scrolled": false
   },
   "outputs": [
    {
     "name": "stdout",
     "output_type": "stream",
     "text": [
      "Neste momento, o dolar está cotado a 5.246, o euro está em 5.6492 e o bitcoin cotado em 147507.\n"
     ]
    }
   ],
   "source": [
    "import requests\n",
    "import json\n",
    "\n",
    "cotacoes = requests.get(\"https://economia.awesomeapi.com.br/last/USD-BRL,EUR-BRL,BTC-BRL\")\n",
    "cotacoes = cotacoes.json()\n",
    "cotacao_dolar = cotacoes['USDBRL']['bid']\n",
    "cotacao_euro = cotacoes['EURBRL']['bid']\n",
    "cotacao_bitcoin = cotacoes['BTCBRL']['bid']\n",
    "print(f'Neste momento, o dolar está cotado a {cotacao_dolar}, o euro está em {cotacao_euro} e o bitcoin cotado em {cotacao_bitcoin}.')\n",
    "#print(cotacoes)\n"
   ]
  },
  {
   "cell_type": "code",
   "execution_count": null,
   "id": "4c0878d5",
   "metadata": {
    "scrolled": false
   },
   "outputs": [],
   "source": []
  },
  {
   "cell_type": "code",
   "execution_count": null,
   "id": "f8a02a4e",
   "metadata": {},
   "outputs": [],
   "source": []
  },
  {
   "cell_type": "code",
   "execution_count": null,
   "id": "bb338467",
   "metadata": {},
   "outputs": [],
   "source": []
  }
 ],
 "metadata": {
  "kernelspec": {
   "display_name": "Python 3 (ipykernel)",
   "language": "python",
   "name": "python3"
  },
  "language_info": {
   "codemirror_mode": {
    "name": "ipython",
    "version": 3
   },
   "file_extension": ".py",
   "mimetype": "text/x-python",
   "name": "python",
   "nbconvert_exporter": "python",
   "pygments_lexer": "ipython3",
   "version": "3.10.6"
  }
 },
 "nbformat": 4,
 "nbformat_minor": 5
}
